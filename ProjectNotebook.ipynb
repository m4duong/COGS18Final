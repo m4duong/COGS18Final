{
 "cells": [
  {
   "cell_type": "markdown",
   "metadata": {},
   "source": [
    "# Project Description"
   ]
  },
  {
   "cell_type": "markdown",
   "metadata": {},
   "source": [
    "My project was my interpretation of a simple hangman game. I was inspired by a video by Webucator on Youtube (https://www.youtube.com/watch?v=5aAkDVXxNhk). The project uses 3 functions: `get_word()`, `replace_underscore()`, and `play_hangman()`. The code for `replace_underscore()` was taken from user gontajones from https://python-forum.io/Thread-Python-Hangman-Replacing-with-letters. The function `play_hangman()` is the main function.\n",
    "\n",
    "The project/game runs as follows:\n",
    "1. `play_hangman()` is run.\n",
    "2. `get_word()` asks the user to choose one of two provided categories (TAs/IAs and Disney characters) and the function randomly selects a word from a premade list. Each letter in the word is replaced with an underscore, turned into a list, and the list is assigned to variable `guess_word`.\n",
    "3. In the while loop, the variable `current_word` is constantly updated with the correctly guessed letter. The while loop checks to see if the variable `current_word` is equal to word. If `current_word` is equal to `word`, then the loop breaks. If it is not equal to `word`, then the loop checks if there are still underscores and more than 0 guesses. If yes, it subtracts 1 from `guesses`, asks for an input, and checks if the input is in `word`. If so, `replace_underscore` prints out the new list. If not, then it will start at the top of the while loop. If there are 0 guesses, then the code will break.\n",
    "4. Once the code breaks, the word is printed out for the user."
   ]
  },
  {
   "cell_type": "markdown",
   "metadata": {},
   "source": [
    "## Project Code\n",
    "\n",
    "If it makes sense for your project, you can have code and outputs here in the notebook as well."
   ]
  },
  {
   "cell_type": "code",
   "execution_count": 1,
   "metadata": {},
   "outputs": [],
   "source": [
    "from my_module.functions import get_word, replace_underscore, play_hangman"
   ]
  },
  {
   "cell_type": "code",
   "execution_count": 4,
   "metadata": {},
   "outputs": [],
   "source": [
    "!python my_module/functions.py"
   ]
  },
  {
   "cell_type": "code",
   "execution_count": 2,
   "metadata": {},
   "outputs": [
    {
     "name": "stdout",
     "output_type": "stream",
     "text": [
      "Hello! Welcome to Hangman!\n",
      "Choose a category (TAs/IAs, Disney characters): \n",
      "disney characters\n",
      "The word contains 4 letters.\n",
      "You have 10 more guesses.\n",
      "Guess a letter: a\n",
      "Yes! \t['_', 'a', '_', '_']\n",
      "You have 9 more guesses.\n",
      "Guess a letter: e\n",
      "Wrong!\n",
      "You have 8 more guesses.\n",
      "Guess a letter: m\n",
      "Yes! \t['m', 'a', '_', '_']\n",
      "You have 7 more guesses.\n",
      "Guess a letter: u\n",
      "Yes! \t['m', 'a', 'u', '_']\n",
      "You have 6 more guesses.\n",
      "Guess a letter: i\n",
      "Yes! \t['m', 'a', 'u', 'i']\n",
      "The word is Maui!\n"
     ]
    }
   ],
   "source": [
    "play_hangman()"
   ]
  },
  {
   "cell_type": "code",
   "execution_count": null,
   "metadata": {},
   "outputs": [],
   "source": []
  }
 ],
 "metadata": {
  "kernelspec": {
   "display_name": "Python 3",
   "language": "python",
   "name": "python3"
  },
  "language_info": {
   "codemirror_mode": {
    "name": "ipython",
    "version": 3
   },
   "file_extension": ".py",
   "mimetype": "text/x-python",
   "name": "python",
   "nbconvert_exporter": "python",
   "pygments_lexer": "ipython3",
   "version": "3.7.3"
  }
 },
 "nbformat": 4,
 "nbformat_minor": 2
}
